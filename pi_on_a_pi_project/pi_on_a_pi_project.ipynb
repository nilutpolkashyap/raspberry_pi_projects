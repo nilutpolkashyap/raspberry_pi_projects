{
 "cells": [
  {
   "cell_type": "code",
   "execution_count": null,
   "metadata": {},
   "outputs": [],
   "source": [
    "import turtle\n",
    "import random \n",
    "import matplotlib.pyplot as plt\n",
    "import math"
   ]
  },
  {
   "cell_type": "code",
   "execution_count": null,
   "metadata": {},
   "outputs": [],
   "source": [
    "mypen = turtle.Turtle()\n",
    "mypen.hideturtle()\n",
    "mypen.speed(0)\n",
    "\n",
    "mypen.up()\n",
    "mypen.setposition(-100, -100)\n",
    "mypen.down()\n",
    "mypen.fd(200)\n",
    "mypen.left(90)\n",
    "mypen.fd(200)\n",
    "\n",
    "mypen.left(90)\n",
    "mypen.fd(200)\n",
    "mypen.left(90)\n",
    "mypen.fd(200)\n",
    "mypen.left(90)\n",
    "\n",
    "mypen.up()\n",
    "mypen.setposition(0,-100)\n",
    "mypen.down()\n",
    "mypen.circle(100)"
   ]
  },
  {
   "cell_type": "code",
   "execution_count": null,
   "metadata": {},
   "outputs": [],
   "source": [
    "in_circle = 0\n",
    "out_circle = 0\n",
    "\n",
    "pi_values = []"
   ]
  },
  {
   "cell_type": "code",
   "execution_count": null,
   "metadata": {},
   "outputs": [],
   "source": [
    "for i in range(5):\n",
    "    for j in range(1000):\n",
    "        \n",
    "        x = random.randrange(-100, 100)\n",
    "        y = random.randrange(-100, 100)\n",
    "        \n",
    "        if(x**2 + y**2 > 100**2):\n",
    "            mypen.color(\"black\")\n",
    "            mypen.up()\n",
    "            mypen.goto(x,y)\n",
    "            mypen.down()\n",
    "            mypen.dot()\n",
    "            out_circle = out_circle + 1\n",
    "        else:\n",
    "            mypen.color(\"red\")\n",
    "            mypen.up()\n",
    "            mypen.goto(x,y)\n",
    "            mypen.down()\n",
    "            mypen.dot()\n",
    "            in_circle = in_circle + 1\n",
    "            \n",
    "        pi = 4.0 * in_circle/  (in_circle +  out_circle)\n",
    "        \n",
    "        pi_values.append(pi)\n",
    "        \n",
    "        avg_pi_errors = [abs(math.pi - pi) for pi in pi_values]\n",
    "        \n",
    "        print(pi_values[-1])"
   ]
  },
  {
   "cell_type": "code",
   "execution_count": null,
   "metadata": {},
   "outputs": [],
   "source": [
    "plt.axhline(y = math.pi, color = 'g', linestyle='-')\n",
    "plt.plot(pi_values)\n",
    "plt.xlabel(\"Iterations\")\n",
    "plt.ylabel(\"Value of PI\")\n",
    "plt.show()\n",
    "\n",
    "plt.axhline(y = 0.0, color = 'g', linestyle = '-')\n",
    "plt.plot(avg_pi_errors)\n",
    "plt.xlabel(\"Iterations\")\n",
    "plt.ylabel(\"Error\")\n",
    "plt.show()"
   ]
  },
  {
   "cell_type": "code",
   "execution_count": null,
   "metadata": {},
   "outputs": [],
   "source": [
    "turtle.bye()"
   ]
  },
  {
   "cell_type": "code",
   "execution_count": null,
   "metadata": {},
   "outputs": [],
   "source": []
  }
 ],
 "metadata": {
  "kernelspec": {
   "display_name": "Python 3",
   "language": "python",
   "name": "python3"
  },
  "language_info": {
   "codemirror_mode": {
    "name": "ipython",
    "version": 3
   },
   "file_extension": ".py",
   "mimetype": "text/x-python",
   "name": "python",
   "nbconvert_exporter": "python",
   "pygments_lexer": "ipython3",
   "version": "3.7.6"
  }
 },
 "nbformat": 4,
 "nbformat_minor": 4
}
